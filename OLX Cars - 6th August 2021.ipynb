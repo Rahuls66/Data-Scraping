{
 "cells": [
  {
   "cell_type": "code",
   "execution_count": 37,
   "metadata": {},
   "outputs": [],
   "source": [
    "# The data was last updated on 6th August, 2021"
   ]
  },
  {
   "cell_type": "code",
   "execution_count": 1,
   "metadata": {},
   "outputs": [],
   "source": [
    "import numpy as np\n",
    "import pandas as pd\n",
    "from selenium import webdriver\n",
    "import requests\n",
    "from bs4 import BeautifulSoup"
   ]
  },
  {
   "cell_type": "code",
   "execution_count": 20,
   "metadata": {},
   "outputs": [],
   "source": [
    "browser = webdriver.Chrome()"
   ]
  },
  {
   "cell_type": "code",
   "execution_count": 21,
   "metadata": {},
   "outputs": [],
   "source": [
    "url = 'https://www.olx.in/indore_g4058916/cars_c84'"
   ]
  },
  {
   "cell_type": "code",
   "execution_count": 22,
   "metadata": {},
   "outputs": [],
   "source": [
    "browser.get(url)\n",
    "browser.execute_script(\"window.scrollTo(0, document.body.scrollHeight);\")"
   ]
  },
  {
   "cell_type": "code",
   "execution_count": 28,
   "metadata": {},
   "outputs": [],
   "source": [
    "html = browser.page_source"
   ]
  },
  {
   "cell_type": "code",
   "execution_count": 29,
   "metadata": {},
   "outputs": [],
   "source": [
    "soup = BeautifulSoup(html, 'html.parser')"
   ]
  },
  {
   "cell_type": "code",
   "execution_count": 33,
   "metadata": {},
   "outputs": [],
   "source": [
    "def cars(soup):\n",
    "    year = [i.text.strip().split(' -')[0] for i in soup.find_all('span', class_='_2TVI3')]\n",
    "    km = [i.text.strip().split('- ')[1].split(' km')[0].replace(',', '') for i in soup.find_all('span', class_='_2TVI3')]\n",
    "    price = [i.text.strip().split('₹ ')[1].replace(',', '') for i in soup.find_all('span', class_='_89yzn')]\n",
    "    title = [i.text.strip().split(' ')[0] for i in soup.find_all('span', class_='_2tW1I')]\n",
    "    title_full = [i.text.strip() for i in soup.find_all('span', class_='_2tW1I')]\n",
    "    trans = []\n",
    "    for i in soup.find_all('span', class_='_2tW1I'):\n",
    "        if 'Petrol' in i.text.strip():\n",
    "            trans.append('Petrol')\n",
    "        else:\n",
    "            trans.append('Diesel')\n",
    "    return pd.DataFrame({'Title':title_full,\n",
    "                         'Make':title, \n",
    "                         'Year':year,\n",
    "                         'KM':km,\n",
    "                         'Fuel Type':trans,\n",
    "                         'Price':price})"
   ]
  },
  {
   "cell_type": "code",
   "execution_count": 34,
   "metadata": {},
   "outputs": [],
   "source": [
    "df = cars(soup)"
   ]
  },
  {
   "cell_type": "code",
   "execution_count": 35,
   "metadata": {},
   "outputs": [
    {
     "data": {
      "text/html": [
       "<div>\n",
       "<style scoped>\n",
       "    .dataframe tbody tr th:only-of-type {\n",
       "        vertical-align: middle;\n",
       "    }\n",
       "\n",
       "    .dataframe tbody tr th {\n",
       "        vertical-align: top;\n",
       "    }\n",
       "\n",
       "    .dataframe thead th {\n",
       "        text-align: right;\n",
       "    }\n",
       "</style>\n",
       "<table border=\"1\" class=\"dataframe\">\n",
       "  <thead>\n",
       "    <tr style=\"text-align: right;\">\n",
       "      <th></th>\n",
       "      <th>Title</th>\n",
       "      <th>Make</th>\n",
       "      <th>Year</th>\n",
       "      <th>KM</th>\n",
       "      <th>Fuel Type</th>\n",
       "      <th>Price</th>\n",
       "    </tr>\n",
       "  </thead>\n",
       "  <tbody>\n",
       "    <tr>\n",
       "      <th>0</th>\n",
       "      <td>Mahindra Scorpio S4 Plus, 2017, Diesel</td>\n",
       "      <td>Mahindra</td>\n",
       "      <td>2017</td>\n",
       "      <td>57000</td>\n",
       "      <td>Diesel</td>\n",
       "      <td>951000</td>\n",
       "    </tr>\n",
       "    <tr>\n",
       "      <th>1</th>\n",
       "      <td>Maruti Suzuki S Cross Zeta DDiS 200 SH, 2018, ...</td>\n",
       "      <td>Maruti</td>\n",
       "      <td>2018</td>\n",
       "      <td>37982</td>\n",
       "      <td>Diesel</td>\n",
       "      <td>950000</td>\n",
       "    </tr>\n",
       "    <tr>\n",
       "      <th>2</th>\n",
       "      <td>Renault Fluence E4 D, 2012, Diesel</td>\n",
       "      <td>Renault</td>\n",
       "      <td>2012</td>\n",
       "      <td>99447</td>\n",
       "      <td>Diesel</td>\n",
       "      <td>365000</td>\n",
       "    </tr>\n",
       "    <tr>\n",
       "      <th>3</th>\n",
       "      <td>Toyota Innova Crysta 2.8 ZX AT, 2018, Diesel</td>\n",
       "      <td>Toyota</td>\n",
       "      <td>2018</td>\n",
       "      <td>98000</td>\n",
       "      <td>Diesel</td>\n",
       "      <td>2000000</td>\n",
       "    </tr>\n",
       "    <tr>\n",
       "      <th>4</th>\n",
       "      <td>Maruti Suzuki Alto K10 VXI, 2012, Petrol</td>\n",
       "      <td>Maruti</td>\n",
       "      <td>2012</td>\n",
       "      <td>66500</td>\n",
       "      <td>Petrol</td>\n",
       "      <td>230000</td>\n",
       "    </tr>\n",
       "    <tr>\n",
       "      <th>...</th>\n",
       "      <td>...</td>\n",
       "      <td>...</td>\n",
       "      <td>...</td>\n",
       "      <td>...</td>\n",
       "      <td>...</td>\n",
       "      <td>...</td>\n",
       "    </tr>\n",
       "    <tr>\n",
       "      <th>513</th>\n",
       "      <td>Honda Brio 1.2 VX MT, 2017, Petrol</td>\n",
       "      <td>Honda</td>\n",
       "      <td>2017</td>\n",
       "      <td>34000</td>\n",
       "      <td>Petrol</td>\n",
       "      <td>399000</td>\n",
       "    </tr>\n",
       "    <tr>\n",
       "      <th>514</th>\n",
       "      <td>Hyundai Grand i10 1.2 CRDi Magna, 2013, Diesel</td>\n",
       "      <td>Hyundai</td>\n",
       "      <td>2013</td>\n",
       "      <td>48000</td>\n",
       "      <td>Diesel</td>\n",
       "      <td>361000</td>\n",
       "    </tr>\n",
       "    <tr>\n",
       "      <th>515</th>\n",
       "      <td>Mahindra Scorpio S11, 2019, Diesel</td>\n",
       "      <td>Mahindra</td>\n",
       "      <td>2019</td>\n",
       "      <td>51000</td>\n",
       "      <td>Diesel</td>\n",
       "      <td>1750000</td>\n",
       "    </tr>\n",
       "    <tr>\n",
       "      <th>516</th>\n",
       "      <td>Skoda Rapid 1.5 TDI Active, 2012, Diesel</td>\n",
       "      <td>Skoda</td>\n",
       "      <td>2012</td>\n",
       "      <td>62000</td>\n",
       "      <td>Diesel</td>\n",
       "      <td>375000</td>\n",
       "    </tr>\n",
       "    <tr>\n",
       "      <th>517</th>\n",
       "      <td>Chevrolet Beat Diesel LS, 2013, Diesel</td>\n",
       "      <td>Chevrolet</td>\n",
       "      <td>2013</td>\n",
       "      <td>46000</td>\n",
       "      <td>Diesel</td>\n",
       "      <td>194000</td>\n",
       "    </tr>\n",
       "  </tbody>\n",
       "</table>\n",
       "<p>518 rows × 6 columns</p>\n",
       "</div>"
      ],
      "text/plain": [
       "                                                 Title       Make  Year  \\\n",
       "0               Mahindra Scorpio S4 Plus, 2017, Diesel   Mahindra  2017   \n",
       "1    Maruti Suzuki S Cross Zeta DDiS 200 SH, 2018, ...     Maruti  2018   \n",
       "2                   Renault Fluence E4 D, 2012, Diesel    Renault  2012   \n",
       "3         Toyota Innova Crysta 2.8 ZX AT, 2018, Diesel     Toyota  2018   \n",
       "4             Maruti Suzuki Alto K10 VXI, 2012, Petrol     Maruti  2012   \n",
       "..                                                 ...        ...   ...   \n",
       "513                 Honda Brio 1.2 VX MT, 2017, Petrol      Honda  2017   \n",
       "514     Hyundai Grand i10 1.2 CRDi Magna, 2013, Diesel    Hyundai  2013   \n",
       "515                 Mahindra Scorpio S11, 2019, Diesel   Mahindra  2019   \n",
       "516           Skoda Rapid 1.5 TDI Active, 2012, Diesel      Skoda  2012   \n",
       "517             Chevrolet Beat Diesel LS, 2013, Diesel  Chevrolet  2013   \n",
       "\n",
       "        KM Fuel Type    Price  \n",
       "0    57000    Diesel   951000  \n",
       "1    37982    Diesel   950000  \n",
       "2    99447    Diesel   365000  \n",
       "3    98000    Diesel  2000000  \n",
       "4    66500    Petrol   230000  \n",
       "..     ...       ...      ...  \n",
       "513  34000    Petrol   399000  \n",
       "514  48000    Diesel   361000  \n",
       "515  51000    Diesel  1750000  \n",
       "516  62000    Diesel   375000  \n",
       "517  46000    Diesel   194000  \n",
       "\n",
       "[518 rows x 6 columns]"
      ]
     },
     "execution_count": 35,
     "metadata": {},
     "output_type": "execute_result"
    }
   ],
   "source": [
    "df"
   ]
  },
  {
   "cell_type": "code",
   "execution_count": 36,
   "metadata": {},
   "outputs": [],
   "source": [
    "df.to_csv('OLX_Indore.csv')"
   ]
  }
 ],
 "metadata": {
  "kernelspec": {
   "display_name": "Python 3",
   "language": "python",
   "name": "python3"
  },
  "language_info": {
   "codemirror_mode": {
    "name": "ipython",
    "version": 3
   },
   "file_extension": ".py",
   "mimetype": "text/x-python",
   "name": "python",
   "nbconvert_exporter": "python",
   "pygments_lexer": "ipython3",
   "version": "3.8.5"
  }
 },
 "nbformat": 4,
 "nbformat_minor": 4
}
