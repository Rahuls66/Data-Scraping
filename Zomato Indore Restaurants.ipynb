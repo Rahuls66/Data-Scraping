{
 "cells": [
  {
   "cell_type": "code",
   "execution_count": 1,
   "metadata": {},
   "outputs": [],
   "source": [
    "import pandas as pd\n",
    "from selenium import webdriver\n",
    "from bs4 import BeautifulSoup\n",
    "\n",
    "import time"
   ]
  },
  {
   "cell_type": "code",
   "execution_count": 2,
   "metadata": {},
   "outputs": [],
   "source": [
    "browser = webdriver.Chrome()"
   ]
  },
  {
   "cell_type": "code",
   "execution_count": 3,
   "metadata": {},
   "outputs": [],
   "source": [
    "url = 'https://www.zomato.com/indore/dine-out'\n",
    "browser.get(url)"
   ]
  },
  {
   "cell_type": "code",
   "execution_count": 4,
   "metadata": {},
   "outputs": [],
   "source": [
    "for i in range(0, 20):\n",
    "    browser.execute_script(\"window.scrollTo(0, document.body.scrollHeight*0.8);\")\n",
    "    time.sleep(5)\n",
    "    browser.execute_script(\"window.scrollTo(0, document.body.scrollHeight*0.86);\")\n",
    "    time.sleep(1)"
   ]
  },
  {
   "cell_type": "code",
   "execution_count": 5,
   "metadata": {},
   "outputs": [],
   "source": [
    "html = browser.page_source"
   ]
  },
  {
   "cell_type": "code",
   "execution_count": 6,
   "metadata": {},
   "outputs": [],
   "source": [
    "soup = BeautifulSoup(html, 'html.parser')"
   ]
  },
  {
   "cell_type": "code",
   "execution_count": 7,
   "metadata": {},
   "outputs": [],
   "source": [
    "def zomato(soup):\n",
    "    name = [i.text.strip() for i in soup.find_all('h4', class_='sc-1hp8d8a-0 sc-ldcLGC cAJOya')]\n",
    "    cuisine = [i.text.strip() for i in soup.find_all('p', class_='sc-1hez2tp-0 sc-hXhGGG iPEMLc')]\n",
    "    area = [i.text.strip() for i in soup.find_all('p', class_='sc-1hez2tp-0 sc-hTQSVH gJqRzf')]\n",
    "    rate = [i.text.strip() for i in soup.find_all('p', class_='sc-1hez2tp-0 sc-hXhGGG edfwAy')]\n",
    "    \n",
    "    return pd.DataFrame({'Name':name,\n",
    "                         'Cuisine':cuisine, \n",
    "                         'Area':area,\n",
    "                         'Rate for Two':rate                       \n",
    "                        })"
   ]
  },
  {
   "cell_type": "code",
   "execution_count": 8,
   "metadata": {},
   "outputs": [
    {
     "data": {
      "text/html": [
       "<div>\n",
       "<style scoped>\n",
       "    .dataframe tbody tr th:only-of-type {\n",
       "        vertical-align: middle;\n",
       "    }\n",
       "\n",
       "    .dataframe tbody tr th {\n",
       "        vertical-align: top;\n",
       "    }\n",
       "\n",
       "    .dataframe thead th {\n",
       "        text-align: right;\n",
       "    }\n",
       "</style>\n",
       "<table border=\"1\" class=\"dataframe\">\n",
       "  <thead>\n",
       "    <tr style=\"text-align: right;\">\n",
       "      <th></th>\n",
       "      <th>Name</th>\n",
       "      <th>Cuisine</th>\n",
       "      <th>Area</th>\n",
       "      <th>Rate for Two</th>\n",
       "    </tr>\n",
       "  </thead>\n",
       "  <tbody>\n",
       "    <tr>\n",
       "      <th>0</th>\n",
       "      <td>House Of Malts</td>\n",
       "      <td>North Indian, Chinese, Continental</td>\n",
       "      <td>Vijay Nagar, Indore</td>\n",
       "      <td>₹1,000 for two</td>\n",
       "    </tr>\n",
       "    <tr>\n",
       "      <th>1</th>\n",
       "      <td>Chill Baby</td>\n",
       "      <td>Chinese, North Indian, Pizza, Fast Food, Pasta...</td>\n",
       "      <td>Vijay Nagar, Indore</td>\n",
       "      <td>₹450 for two</td>\n",
       "    </tr>\n",
       "    <tr>\n",
       "      <th>2</th>\n",
       "      <td>Revolution Indore</td>\n",
       "      <td>North Indian, Continental, Fast Food</td>\n",
       "      <td>Vijay Nagar, Indore</td>\n",
       "      <td>₹2,000 for two</td>\n",
       "    </tr>\n",
       "    <tr>\n",
       "      <th>3</th>\n",
       "      <td>JAL - A Jungle Restaurant</td>\n",
       "      <td>North Indian, Chinese, Mughlai, Beverages</td>\n",
       "      <td>Bhawar Kuan, Indore</td>\n",
       "      <td>₹850 for two</td>\n",
       "    </tr>\n",
       "    <tr>\n",
       "      <th>4</th>\n",
       "      <td>Bollywood Theka</td>\n",
       "      <td>Finger Food, North Indian, Fast Food, Chinese</td>\n",
       "      <td>Infiniti Hotel, Vijay Nagar, Indore</td>\n",
       "      <td>₹900 for two</td>\n",
       "    </tr>\n",
       "    <tr>\n",
       "      <th>...</th>\n",
       "      <td>...</td>\n",
       "      <td>...</td>\n",
       "      <td>...</td>\n",
       "      <td>...</td>\n",
       "    </tr>\n",
       "    <tr>\n",
       "      <th>487</th>\n",
       "      <td>Bawarchi Chur Chur Naan</td>\n",
       "      <td>North Indian</td>\n",
       "      <td>Khajrana, Indore</td>\n",
       "      <td>₹500 for two</td>\n",
       "    </tr>\n",
       "    <tr>\n",
       "      <th>488</th>\n",
       "      <td>The Sawariya Cafe</td>\n",
       "      <td>Chinese, Fast Food</td>\n",
       "      <td>Rajendra Nagar, Indore</td>\n",
       "      <td>₹350 for two</td>\n",
       "    </tr>\n",
       "    <tr>\n",
       "      <th>489</th>\n",
       "      <td>Apna Sandwich</td>\n",
       "      <td>Sandwich, Fast Food</td>\n",
       "      <td>Chhavani, Indore</td>\n",
       "      <td>₹150 for two</td>\n",
       "    </tr>\n",
       "    <tr>\n",
       "      <th>490</th>\n",
       "      <td>The Sajan Celebration</td>\n",
       "      <td>Sandwich, Fast Food, Beverages, Bakery</td>\n",
       "      <td>HIG-LIG, Indore</td>\n",
       "      <td>₹350 for two</td>\n",
       "    </tr>\n",
       "    <tr>\n",
       "      <th>491</th>\n",
       "      <td>Kanpur Central</td>\n",
       "      <td>North Indian</td>\n",
       "      <td>Bhawar Kuan, Indore</td>\n",
       "      <td>₹100 for two</td>\n",
       "    </tr>\n",
       "  </tbody>\n",
       "</table>\n",
       "<p>492 rows × 4 columns</p>\n",
       "</div>"
      ],
      "text/plain": [
       "                          Name  \\\n",
       "0               House Of Malts   \n",
       "1                   Chill Baby   \n",
       "2            Revolution Indore   \n",
       "3    JAL - A Jungle Restaurant   \n",
       "4              Bollywood Theka   \n",
       "..                         ...   \n",
       "487    Bawarchi Chur Chur Naan   \n",
       "488          The Sawariya Cafe   \n",
       "489              Apna Sandwich   \n",
       "490      The Sajan Celebration   \n",
       "491             Kanpur Central   \n",
       "\n",
       "                                               Cuisine  \\\n",
       "0                   North Indian, Chinese, Continental   \n",
       "1    Chinese, North Indian, Pizza, Fast Food, Pasta...   \n",
       "2                 North Indian, Continental, Fast Food   \n",
       "3            North Indian, Chinese, Mughlai, Beverages   \n",
       "4        Finger Food, North Indian, Fast Food, Chinese   \n",
       "..                                                 ...   \n",
       "487                                       North Indian   \n",
       "488                                 Chinese, Fast Food   \n",
       "489                                Sandwich, Fast Food   \n",
       "490             Sandwich, Fast Food, Beverages, Bakery   \n",
       "491                                       North Indian   \n",
       "\n",
       "                                    Area    Rate for Two  \n",
       "0                    Vijay Nagar, Indore  ₹1,000 for two  \n",
       "1                    Vijay Nagar, Indore    ₹450 for two  \n",
       "2                    Vijay Nagar, Indore  ₹2,000 for two  \n",
       "3                    Bhawar Kuan, Indore    ₹850 for two  \n",
       "4    Infiniti Hotel, Vijay Nagar, Indore    ₹900 for two  \n",
       "..                                   ...             ...  \n",
       "487                     Khajrana, Indore    ₹500 for two  \n",
       "488               Rajendra Nagar, Indore    ₹350 for two  \n",
       "489                     Chhavani, Indore    ₹150 for two  \n",
       "490                      HIG-LIG, Indore    ₹350 for two  \n",
       "491                  Bhawar Kuan, Indore    ₹100 for two  \n",
       "\n",
       "[492 rows x 4 columns]"
      ]
     },
     "execution_count": 8,
     "metadata": {},
     "output_type": "execute_result"
    }
   ],
   "source": [
    "df = zomato(soup)\n",
    "df"
   ]
  },
  {
   "cell_type": "code",
   "execution_count": null,
   "metadata": {},
   "outputs": [],
   "source": []
  }
 ],
 "metadata": {
  "kernelspec": {
   "display_name": "Python 3",
   "language": "python",
   "name": "python3"
  },
  "language_info": {
   "codemirror_mode": {
    "name": "ipython",
    "version": 3
   },
   "file_extension": ".py",
   "mimetype": "text/x-python",
   "name": "python",
   "nbconvert_exporter": "python",
   "pygments_lexer": "ipython3",
   "version": "3.8.5"
  }
 },
 "nbformat": 4,
 "nbformat_minor": 4
}
