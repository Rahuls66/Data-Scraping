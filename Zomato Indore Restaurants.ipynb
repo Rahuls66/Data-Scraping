{
 "cells": [
  {
   "cell_type": "code",
   "execution_count": 7,
   "metadata": {},
   "outputs": [],
   "source": [
    "import numpy as np\n",
    "import pandas as pd\n",
    "from selenium import webdriver\n",
    "import requests\n",
    "from bs4 import BeautifulSoup\n",
    "\n",
    "import time"
   ]
  },
  {
   "cell_type": "code",
   "execution_count": 4,
   "metadata": {},
   "outputs": [],
   "source": [
    "browser = webdriver.Chrome()"
   ]
  },
  {
   "cell_type": "code",
   "execution_count": 3,
   "metadata": {},
   "outputs": [],
   "source": [
    "url = 'https://www.zomato.com/indore/dine-out'"
   ]
  },
  {
   "cell_type": "code",
   "execution_count": 56,
   "metadata": {},
   "outputs": [],
   "source": [
    "browser.get(url)\n",
    "time.sleep(10)"
   ]
  },
  {
   "cell_type": "code",
   "execution_count": 57,
   "metadata": {},
   "outputs": [],
   "source": [
    "time.sleep(5)\n",
    "browser.execute_script(\"window.scrollTo(0, document.body.scrollHeight);\")"
   ]
  },
  {
   "cell_type": "code",
   "execution_count": 62,
   "metadata": {},
   "outputs": [],
   "source": [
    "html = browser.page_source"
   ]
  },
  {
   "cell_type": "code",
   "execution_count": 63,
   "metadata": {},
   "outputs": [],
   "source": [
    "soup = BeautifulSoup(html, 'html.parser')"
   ]
  },
  {
   "cell_type": "code",
   "execution_count": 64,
   "metadata": {},
   "outputs": [],
   "source": [
    "def zomato(soup):\n",
    "    name = [i.text.strip() for i in soup.find_all('h4', class_='sc-1hp8d8a-0 sc-ldcLGC cAJOya')]\n",
    "    cuisine = [i.text.strip() for i in soup.find_all('p', class_='sc-1hez2tp-0 sc-hXhGGG iPEMLc')]\n",
    "    area = [i.text.strip() for i in soup.find_all('p', class_='sc-1hez2tp-0 sc-hTQSVH gJqRzf')]\n",
    "    rate = [i.text.strip() for i in soup.find_all('p', class_='sc-1hez2tp-0 sc-hXhGGG edfwAy')]\n",
    "    \n",
    "    return pd.DataFrame({'Name':name,\n",
    "                         'Cuisine':cuisine, \n",
    "                         'Area':area,\n",
    "                         'Rate for 2':rate,\n",
    "                        })"
   ]
  },
  {
   "cell_type": "code",
   "execution_count": 65,
   "metadata": {},
   "outputs": [
    {
     "data": {
      "text/html": [
       "<div>\n",
       "<style scoped>\n",
       "    .dataframe tbody tr th:only-of-type {\n",
       "        vertical-align: middle;\n",
       "    }\n",
       "\n",
       "    .dataframe tbody tr th {\n",
       "        vertical-align: top;\n",
       "    }\n",
       "\n",
       "    .dataframe thead th {\n",
       "        text-align: right;\n",
       "    }\n",
       "</style>\n",
       "<table border=\"1\" class=\"dataframe\">\n",
       "  <thead>\n",
       "    <tr style=\"text-align: right;\">\n",
       "      <th></th>\n",
       "      <th>Name</th>\n",
       "      <th>Cuisine</th>\n",
       "      <th>Area</th>\n",
       "      <th>Rate for 2</th>\n",
       "    </tr>\n",
       "  </thead>\n",
       "  <tbody>\n",
       "    <tr>\n",
       "      <th>0</th>\n",
       "      <td>House Of Malts</td>\n",
       "      <td>North Indian, Chinese, Continental</td>\n",
       "      <td>Vijay Nagar, Indore</td>\n",
       "      <td>₹1,000 for two</td>\n",
       "    </tr>\n",
       "    <tr>\n",
       "      <th>1</th>\n",
       "      <td>Chill Baby</td>\n",
       "      <td>Chinese, North Indian, Pizza, Fast Food, Pasta...</td>\n",
       "      <td>Vijay Nagar, Indore</td>\n",
       "      <td>₹450 for two</td>\n",
       "    </tr>\n",
       "    <tr>\n",
       "      <th>2</th>\n",
       "      <td>Revolution Indore</td>\n",
       "      <td>North Indian, Continental, Fast Food</td>\n",
       "      <td>Vijay Nagar, Indore</td>\n",
       "      <td>₹2,000 for two</td>\n",
       "    </tr>\n",
       "    <tr>\n",
       "      <th>3</th>\n",
       "      <td>JAL - A Jungle Restaurant</td>\n",
       "      <td>North Indian, Chinese, Mughlai, Beverages</td>\n",
       "      <td>Bhawar Kuan, Indore</td>\n",
       "      <td>₹850 for two</td>\n",
       "    </tr>\n",
       "    <tr>\n",
       "      <th>4</th>\n",
       "      <td>Bollywood Theka</td>\n",
       "      <td>Finger Food, North Indian, Fast Food, Chinese</td>\n",
       "      <td>Infiniti Hotel, Vijay Nagar, Indore</td>\n",
       "      <td>₹900 for two</td>\n",
       "    </tr>\n",
       "    <tr>\n",
       "      <th>...</th>\n",
       "      <td>...</td>\n",
       "      <td>...</td>\n",
       "      <td>...</td>\n",
       "      <td>...</td>\n",
       "    </tr>\n",
       "    <tr>\n",
       "      <th>487</th>\n",
       "      <td>Holly Bolly Cafe</td>\n",
       "      <td>Fast Food, Street Food, Beverages, Sandwich, P...</td>\n",
       "      <td>Mari Mata Square, Indore</td>\n",
       "      <td>₹300 for two</td>\n",
       "    </tr>\n",
       "    <tr>\n",
       "      <th>488</th>\n",
       "      <td>Jai Malhar Sandwich</td>\n",
       "      <td>Sandwich, Pizza, Fast Food, Street Food</td>\n",
       "      <td>Rajwada, Indore</td>\n",
       "      <td>₹200 for two</td>\n",
       "    </tr>\n",
       "    <tr>\n",
       "      <th>489</th>\n",
       "      <td>Blanco Bakers &amp; Coffee Shop</td>\n",
       "      <td>Bakery, Desserts</td>\n",
       "      <td>Khajrana, Indore</td>\n",
       "      <td>₹250 for two</td>\n",
       "    </tr>\n",
       "    <tr>\n",
       "      <th>490</th>\n",
       "      <td>Cafe Midnight Terrace</td>\n",
       "      <td>Fast Food, North Indian, Chinese, Beverages, P...</td>\n",
       "      <td>Annapurna Road, Indore</td>\n",
       "      <td>₹900 for two</td>\n",
       "    </tr>\n",
       "    <tr>\n",
       "      <th>491</th>\n",
       "      <td>Bana's Barbecue</td>\n",
       "      <td>BBQ, Biryani</td>\n",
       "      <td>Vijay Nagar, Indore</td>\n",
       "      <td>₹250 for two</td>\n",
       "    </tr>\n",
       "  </tbody>\n",
       "</table>\n",
       "<p>492 rows × 4 columns</p>\n",
       "</div>"
      ],
      "text/plain": [
       "                            Name  \\\n",
       "0                 House Of Malts   \n",
       "1                     Chill Baby   \n",
       "2              Revolution Indore   \n",
       "3      JAL - A Jungle Restaurant   \n",
       "4                Bollywood Theka   \n",
       "..                           ...   \n",
       "487             Holly Bolly Cafe   \n",
       "488          Jai Malhar Sandwich   \n",
       "489  Blanco Bakers & Coffee Shop   \n",
       "490        Cafe Midnight Terrace   \n",
       "491              Bana's Barbecue   \n",
       "\n",
       "                                               Cuisine  \\\n",
       "0                   North Indian, Chinese, Continental   \n",
       "1    Chinese, North Indian, Pizza, Fast Food, Pasta...   \n",
       "2                 North Indian, Continental, Fast Food   \n",
       "3            North Indian, Chinese, Mughlai, Beverages   \n",
       "4        Finger Food, North Indian, Fast Food, Chinese   \n",
       "..                                                 ...   \n",
       "487  Fast Food, Street Food, Beverages, Sandwich, P...   \n",
       "488            Sandwich, Pizza, Fast Food, Street Food   \n",
       "489                                   Bakery, Desserts   \n",
       "490  Fast Food, North Indian, Chinese, Beverages, P...   \n",
       "491                                       BBQ, Biryani   \n",
       "\n",
       "                                    Area      Rate for 2  \n",
       "0                    Vijay Nagar, Indore  ₹1,000 for two  \n",
       "1                    Vijay Nagar, Indore    ₹450 for two  \n",
       "2                    Vijay Nagar, Indore  ₹2,000 for two  \n",
       "3                    Bhawar Kuan, Indore    ₹850 for two  \n",
       "4    Infiniti Hotel, Vijay Nagar, Indore    ₹900 for two  \n",
       "..                                   ...             ...  \n",
       "487             Mari Mata Square, Indore    ₹300 for two  \n",
       "488                      Rajwada, Indore    ₹200 for two  \n",
       "489                     Khajrana, Indore    ₹250 for two  \n",
       "490               Annapurna Road, Indore    ₹900 for two  \n",
       "491                  Vijay Nagar, Indore    ₹250 for two  \n",
       "\n",
       "[492 rows x 4 columns]"
      ]
     },
     "execution_count": 65,
     "metadata": {},
     "output_type": "execute_result"
    }
   ],
   "source": [
    "df = zomato(soup)\n",
    "df"
   ]
  },
  {
   "cell_type": "code",
   "execution_count": null,
   "metadata": {},
   "outputs": [],
   "source": []
  }
 ],
 "metadata": {
  "kernelspec": {
   "display_name": "Python 3",
   "language": "python",
   "name": "python3"
  },
  "language_info": {
   "codemirror_mode": {
    "name": "ipython",
    "version": 3
   },
   "file_extension": ".py",
   "mimetype": "text/x-python",
   "name": "python",
   "nbconvert_exporter": "python",
   "pygments_lexer": "ipython3",
   "version": "3.8.5"
  }
 },
 "nbformat": 4,
 "nbformat_minor": 4
}
