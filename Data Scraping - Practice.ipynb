{
 "cells": [
  {
   "cell_type": "code",
   "execution_count": 1,
   "metadata": {},
   "outputs": [],
   "source": [
    "from bs4 import BeautifulSoup\n",
    "import requests\n",
    "import pandas as pd"
   ]
  },
  {
   "cell_type": "code",
   "execution_count": 2,
   "metadata": {},
   "outputs": [],
   "source": [
    "def quote(soup):\n",
    "    quotes = [i.text.strip() for i in soup.find_all('div', class_=\"quoteText\")]\n",
    "    authors = [i.text.strip() for i in soup.find_all('span', class_=\"authorOrTitle\")]\n",
    "    likes =  [i.text.split()[0] for i in soup.find_all('a', class_=\"smallText\")]\n",
    "    return (pd.DataFrame({'Author':authors, 'Quote':quotes, 'Likes':likes}))"
   ]
  },
  {
   "cell_type": "code",
   "execution_count": 3,
   "metadata": {},
   "outputs": [],
   "source": [
    "stub = \"https://www.goodreads.com/quotes/tag/success?page={}\""
   ]
  },
  {
   "cell_type": "code",
   "execution_count": 4,
   "metadata": {},
   "outputs": [
    {
     "name": "stderr",
     "output_type": "stream",
     "text": [
      "100%|██████████████████████████████████████████████████████████████████████████████████| 50/50 [03:35<00:00,  4.30s/it]\n"
     ]
    }
   ],
   "source": [
    "from tqdm import tqdm\n",
    "import time\n",
    "\n",
    "quoteData = []\n",
    "for i in tqdm(range(1,51)):\n",
    "    url = stub.format(i)\n",
    "    html = requests.get(url).text\n",
    "    time.sleep(2)\n",
    "    soup = BeautifulSoup(html, 'html.parser')\n",
    "    quoteData.append(quote(soup))"
   ]
  },
  {
   "cell_type": "code",
   "execution_count": 5,
   "metadata": {},
   "outputs": [],
   "source": [
    "data = pd.concat(quoteData, axis = 0)"
   ]
  },
  {
   "cell_type": "code",
   "execution_count": 6,
   "metadata": {},
   "outputs": [
    {
     "data": {
      "text/html": [
       "<div>\n",
       "<style scoped>\n",
       "    .dataframe tbody tr th:only-of-type {\n",
       "        vertical-align: middle;\n",
       "    }\n",
       "\n",
       "    .dataframe tbody tr th {\n",
       "        vertical-align: top;\n",
       "    }\n",
       "\n",
       "    .dataframe thead th {\n",
       "        text-align: right;\n",
       "    }\n",
       "</style>\n",
       "<table border=\"1\" class=\"dataframe\">\n",
       "  <thead>\n",
       "    <tr style=\"text-align: right;\">\n",
       "      <th></th>\n",
       "      <th>Author</th>\n",
       "      <th>Quote</th>\n",
       "      <th>Likes</th>\n",
       "    </tr>\n",
       "  </thead>\n",
       "  <tbody>\n",
       "    <tr>\n",
       "      <th>0</th>\n",
       "      <td>Winston S. Churchill</td>\n",
       "      <td>“Success is not final, failure is not fatal: i...</td>\n",
       "      <td>22267</td>\n",
       "    </tr>\n",
       "    <tr>\n",
       "      <th>1</th>\n",
       "      <td>Bessie Anderson Stanley,</td>\n",
       "      <td>“He has achieved success who has lived well, l...</td>\n",
       "      <td>18682</td>\n",
       "    </tr>\n",
       "    <tr>\n",
       "      <th>2</th>\n",
       "      <td>Herbert Bayard Swope</td>\n",
       "      <td>“I can't give you a sure-fire formula for succ...</td>\n",
       "      <td>11223</td>\n",
       "    </tr>\n",
       "    <tr>\n",
       "      <th>3</th>\n",
       "      <td>W.C. Fields</td>\n",
       "      <td>“If at first you don't succeed, try, try again...</td>\n",
       "      <td>7295</td>\n",
       "    </tr>\n",
       "    <tr>\n",
       "      <th>4</th>\n",
       "      <td>Albert Einstein</td>\n",
       "      <td>“Try not to become a man of success. Rather be...</td>\n",
       "      <td>6704</td>\n",
       "    </tr>\n",
       "    <tr>\n",
       "      <th>...</th>\n",
       "      <td>...</td>\n",
       "      <td>...</td>\n",
       "      <td>...</td>\n",
       "    </tr>\n",
       "    <tr>\n",
       "      <th>25</th>\n",
       "      <td>Candace Bushnell,</td>\n",
       "      <td>“Why is it that everyone who’s had a baby acts...</td>\n",
       "      <td>0</td>\n",
       "    </tr>\n",
       "    <tr>\n",
       "      <th>26</th>\n",
       "      <td>Candace Bushnell,</td>\n",
       "      <td>“You always think life is going to get easier ...</td>\n",
       "      <td>0</td>\n",
       "    </tr>\n",
       "    <tr>\n",
       "      <th>27</th>\n",
       "      <td>Cliff Hannold</td>\n",
       "      <td>“Stop dwelling in the past and worrying about ...</td>\n",
       "      <td>0</td>\n",
       "    </tr>\n",
       "    <tr>\n",
       "      <th>28</th>\n",
       "      <td>A.D. Aliwat,</td>\n",
       "      <td>“Some habits just translate well to other unde...</td>\n",
       "      <td>0</td>\n",
       "    </tr>\n",
       "    <tr>\n",
       "      <th>29</th>\n",
       "      <td>A.D. Aliwat,</td>\n",
       "      <td>“First an empress, then an empire.”\\n    ―\\n  ...</td>\n",
       "      <td>0</td>\n",
       "    </tr>\n",
       "  </tbody>\n",
       "</table>\n",
       "<p>1500 rows × 3 columns</p>\n",
       "</div>"
      ],
      "text/plain": [
       "                      Author  \\\n",
       "0       Winston S. Churchill   \n",
       "1   Bessie Anderson Stanley,   \n",
       "2       Herbert Bayard Swope   \n",
       "3                W.C. Fields   \n",
       "4            Albert Einstein   \n",
       "..                       ...   \n",
       "25         Candace Bushnell,   \n",
       "26         Candace Bushnell,   \n",
       "27             Cliff Hannold   \n",
       "28              A.D. Aliwat,   \n",
       "29              A.D. Aliwat,   \n",
       "\n",
       "                                                Quote  Likes  \n",
       "0   “Success is not final, failure is not fatal: i...  22267  \n",
       "1   “He has achieved success who has lived well, l...  18682  \n",
       "2   “I can't give you a sure-fire formula for succ...  11223  \n",
       "3   “If at first you don't succeed, try, try again...   7295  \n",
       "4   “Try not to become a man of success. Rather be...   6704  \n",
       "..                                                ...    ...  \n",
       "25  “Why is it that everyone who’s had a baby acts...      0  \n",
       "26  “You always think life is going to get easier ...      0  \n",
       "27  “Stop dwelling in the past and worrying about ...      0  \n",
       "28  “Some habits just translate well to other unde...      0  \n",
       "29  “First an empress, then an empire.”\\n    ―\\n  ...      0  \n",
       "\n",
       "[1500 rows x 3 columns]"
      ]
     },
     "execution_count": 6,
     "metadata": {},
     "output_type": "execute_result"
    }
   ],
   "source": [
    "data"
   ]
  }
 ],
 "metadata": {
  "language_info": {
   "codemirror_mode": {
    "name": "ipython",
    "version": 3
   },
   "file_extension": ".py",
   "mimetype": "text/x-python",
   "name": "python",
   "nbconvert_exporter": "python",
   "pygments_lexer": "ipython3",
   "version": "3.7.7"
  }
 },
 "nbformat": 4,
 "nbformat_minor": 4
}
